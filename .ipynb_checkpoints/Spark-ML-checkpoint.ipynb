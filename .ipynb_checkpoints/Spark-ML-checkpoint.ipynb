{
 "cells": [
  {
   "cell_type": "markdown",
   "metadata": {},
   "source": [
    "### Spark-ML"
   ]
  },
  {
   "cell_type": "markdown",
   "metadata": {},
   "source": [
    "1. Chain spark dataframe methods together to do data munging.\n",
    "2. Be able to describe the Spark-ML API, and recognize differences to sk-learn.\n",
    "3. Chain Spark-ML Transformers and Estimators together to compose ML pipelines."
   ]
  },
  {
   "cell_type": "code",
   "execution_count": 1,
   "metadata": {},
   "outputs": [
    {
     "name": "stdout",
     "output_type": "stream",
     "text": [
      "imported pyspark\n"
     ]
    }
   ],
   "source": [
    "import pyspark.sql.functions as F\n",
    "import pyspark as ps\n",
    "from pyspark import SQLContext  \n",
    "\n",
    "spark = ps.sql.SparkSession.builder \\\n",
    "    .master('local[2]') \\\n",
    "    .appName('spark-ml') \\\n",
    "    .getOrCreate()\n",
    "\n",
    "sc = spark.sparkContext\n",
    "print(\"imported pyspark\")"
   ]
  },
  {
   "cell_type": "code",
   "execution_count": 2,
   "metadata": {},
   "outputs": [
    {
     "name": "stdout",
     "output_type": "stream",
     "text": [
      "defined sqlcontext\n"
     ]
    }
   ],
   "source": [
    "sqlContext = SQLContext(sc)\n",
    "print(\"defined sqlcontext\")"
   ]
  },
  {
   "cell_type": "markdown",
   "metadata": {},
   "source": [
    "### Find the date on which AAPL's closing stock price was the highest\n",
    "\n",
    "#### Input DataFrame\n",
    "\n"
   ]
  },
  {
   "cell_type": "code",
   "execution_count": 4,
   "metadata": {},
   "outputs": [
    {
     "name": "stdout",
     "output_type": "stream",
     "text": [
      "+----------+----------+----------+----------+----------+----------+--------+\n",
      "|      Date|      Open|      High|       Low|     Close| Adj Close|  Volume|\n",
      "+----------+----------+----------+----------+----------+----------+--------+\n",
      "|09/05/2018|186.550003|187.399994|185.220001|187.360001|186.640305|23211200|\n",
      "|10/05/2018|187.740005|190.369995|187.649994|190.039993|189.309998|27989300|\n",
      "|11/05/2018|189.490005|190.059998|187.449997|188.589996|188.589996|26212200|\n",
      "|14/05/2018|189.009995|189.529999|187.860001|188.149994|188.149994|20778800|\n",
      "|15/05/2018|186.779999|187.070007|185.100006|186.440002|186.440002|23695200|\n",
      "+----------+----------+----------+----------+----------+----------+--------+\n",
      "only showing top 5 rows\n",
      "\n"
     ]
    }
   ],
   "source": [
    "\n",
    "# read CSV\n",
    "df_aapl = sqlContext.read.csv('data/aapl.csv',\n",
    "                         header=True,       # use headers or not\n",
    "                         quote='\"',         # char for quotes\n",
    "                         sep=\",\",           # char for separation\n",
    "                         inferSchema=True)  # do we infer schema or not ?\n",
    "\n",
    "df_aapl.show(5) #df.head(2)"
   ]
  },
  {
   "cell_type": "code",
   "execution_count": 5,
   "metadata": {},
   "outputs": [
    {
     "data": {
      "text/plain": [
       "StructType(List(StructField(Date,StringType,true),StructField(Open,DoubleType,true),StructField(High,DoubleType,true),StructField(Low,DoubleType,true),StructField(Close,DoubleType,true),StructField(Adj Close,DoubleType,true),StructField(Volume,IntegerType,true)))"
      ]
     },
     "execution_count": 5,
     "metadata": {},
     "output_type": "execute_result"
    }
   ],
   "source": [
    "df_aapl.schema #df.info()"
   ]
  },
  {
   "cell_type": "markdown",
   "metadata": {},
   "source": [
    "### Task\n",
    "\n",
    "Now, design a pipeline that will:\n",
    "\n",
    "1. Keep only fields for Date and Close\n",
    "2. Order by Close in descending order\n",
    "\n",
    "### Code"
   ]
  },
  {
   "cell_type": "code",
   "execution_count": 6,
   "metadata": {},
   "outputs": [
    {
     "name": "stdout",
     "output_type": "stream",
     "text": [
      "+----------+----------+\n",
      "|      Date|     Close|\n",
      "+----------+----------+\n",
      "|06/06/2018|193.979996|\n",
      "|07/06/2018|193.460007|\n",
      "|05/06/2018|193.309998|\n",
      "|04/06/2018|191.830002|\n",
      "|08/06/2018|191.699997|\n",
      "+----------+----------+\n",
      "only showing top 5 rows\n",
      "\n"
     ]
    }
   ],
   "source": [
    "df_out = df_aapl.select('Date', 'Close').orderBy('Close', ascending=False)\n",
    "\n",
    "df_out.show(5)"
   ]
  },
  {
   "cell_type": "markdown",
   "metadata": {},
   "source": [
    "**Solution**\n",
    "\n",
    "df_out.select(\"Close\", \"Date\").orderBy(df_aapl.Close, ascending=False).show(5)"
   ]
  },
  {
   "cell_type": "markdown",
   "metadata": {},
   "source": [
    "**Supervised Machine Learning on DataFrames**\n",
    "\n",
    "\n",
    "What is the difference between df_aapl and df_vector after running the code below?"
   ]
  },
  {
   "cell_type": "code",
   "execution_count": 7,
   "metadata": {},
   "outputs": [
    {
     "name": "stdout",
     "output_type": "stream",
     "text": [
      "+----------+----------+----------+----------+----------+----------+--------+\n",
      "|      Date|      Open|      High|       Low|     Close| Adj Close|  Volume|\n",
      "+----------+----------+----------+----------+----------+----------+--------+\n",
      "|09/05/2018|186.550003|187.399994|185.220001|187.360001|186.640305|23211200|\n",
      "|10/05/2018|187.740005|190.369995|187.649994|190.039993|189.309998|27989300|\n",
      "|11/05/2018|189.490005|190.059998|187.449997|188.589996|188.589996|26212200|\n",
      "|14/05/2018|189.009995|189.529999|187.860001|188.149994|188.149994|20778800|\n",
      "|15/05/2018|186.779999|187.070007|185.100006|186.440002|186.440002|23695200|\n",
      "+----------+----------+----------+----------+----------+----------+--------+\n",
      "only showing top 5 rows\n",
      "\n",
      "+----------+----------+----------+----------+----------+----------+--------+------------+\n",
      "|      Date|      Open|      High|       Low|     Close| Adj Close|  Volume|    Features|\n",
      "+----------+----------+----------+----------+----------+----------+--------+------------+\n",
      "|09/05/2018|186.550003|187.399994|185.220001|187.360001|186.640305|23211200|[187.360001]|\n",
      "|10/05/2018|187.740005|190.369995|187.649994|190.039993|189.309998|27989300|[190.039993]|\n",
      "|11/05/2018|189.490005|190.059998|187.449997|188.589996|188.589996|26212200|[188.589996]|\n",
      "|14/05/2018|189.009995|189.529999|187.860001|188.149994|188.149994|20778800|[188.149994]|\n",
      "|15/05/2018|186.779999|187.070007|185.100006|186.440002|186.440002|23695200|[186.440002]|\n",
      "+----------+----------+----------+----------+----------+----------+--------+------------+\n",
      "only showing top 5 rows\n",
      "\n"
     ]
    }
   ],
   "source": [
    "from pyspark.ml.feature import MinMaxScaler, VectorAssembler\n",
    "\n",
    "# assemble values in a vector\n",
    "vectorAssembler = VectorAssembler(inputCols=[\"Close\"], outputCol=\"Features\")\n",
    "\n",
    "\n",
    "df_vector = vectorAssembler.transform(df_aapl)\n",
    "df_aapl.show(5)\n",
    "\n",
    "df_vector.show(5)"
   ]
  },
  {
   "cell_type": "code",
   "execution_count": 8,
   "metadata": {},
   "outputs": [
    {
     "name": "stdout",
     "output_type": "stream",
     "text": [
      "+------------+--------------------+\n",
      "|    Features|     Scaled Features|\n",
      "+------------+--------------------+\n",
      "|[187.360001]|[0.13689742813492...|\n",
      "|[190.039993]|[0.48630977478742...|\n",
      "|[188.589996]|[0.2972618767306078]|\n",
      "|[188.149994]|[0.23989523856459...|\n",
      "|[186.440002]|[0.01694967847449...|\n",
      "|[188.179993]|[0.24380645210076...|\n",
      "|[186.990005]|[0.08865804137106...|\n",
      "|[186.309998]|               [0.0]|\n",
      "|[187.630005]|[0.17210004487615...|\n",
      "|[187.160004]|[0.11082219317397...|\n",
      "+------------+--------------------+\n",
      "only showing top 10 rows\n",
      "\n"
     ]
    }
   ],
   "source": [
    "# Gotta have the column be a vector.\n",
    "scaler = MinMaxScaler(inputCol=\"Features\", outputCol=\"Scaled Features\")\n",
    "\n",
    "# Compute summary statistics and generate MinMaxScalerModel\n",
    "scaler_model = scaler.fit(df_vector)\n",
    "\n",
    "# rescale each feature to range [min, max].\n",
    "scaled_data = scaler_model.transform(df_vector)\n",
    "scaled_data.select(\"Features\", \"Scaled Features\").show(10)"
   ]
  },
  {
   "cell_type": "code",
   "execution_count": null,
   "metadata": {},
   "outputs": [],
   "source": []
  }
 ],
 "metadata": {
  "kernelspec": {
   "display_name": "Python 3",
   "language": "python",
   "name": "python3"
  },
  "language_info": {
   "codemirror_mode": {
    "name": "ipython",
    "version": 3
   },
   "file_extension": ".py",
   "mimetype": "text/x-python",
   "name": "python",
   "nbconvert_exporter": "python",
   "pygments_lexer": "ipython3",
   "version": "3.8.3"
  }
 },
 "nbformat": 4,
 "nbformat_minor": 4
}
