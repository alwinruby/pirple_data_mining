{
 "cells": [
  {
   "cell_type": "code",
   "execution_count": 1,
   "id": "d028e075",
   "metadata": {},
   "outputs": [
    {
     "name": "stdout",
     "output_type": "stream",
     "text": [
      "modules imported\n"
     ]
    }
   ],
   "source": [
    "import pandas as pd\n",
    "from pandas.core.series import Series\n",
    "from pandas.core.frame import DataFrame\n",
    "\n",
    "import numpy as np\n",
    "\n",
    "import pyspark as ps\n",
    "import seaborn as sns\n",
    "import matplotlib.pyplot as plt\n",
    "from pyspark import SQLContext\n",
    "from pyspark.sql import functions as f\n",
    "\n",
    "spark = ps.sql.SparkSession.builder.master('local') \\\n",
    "    .appName('NewSportsProject').getOrCreate()\n",
    "\n",
    "sc = spark.sparkContext\n",
    "sqlContext = SQLContext(sc)\n",
    "\n",
    "print(\"modules imported\")"
   ]
  },
  {
   "cell_type": "code",
   "execution_count": 2,
   "id": "35e701ad",
   "metadata": {},
   "outputs": [
    {
     "name": "stdout",
     "output_type": "stream",
     "text": [
      "+---+-------+-----+---+------------+----------+-------+-------+--------------+------------+---------+---------+-------------------+-------+----------------+---------+----------------+---------------+---------+-----+-----+--------+------------+------------+------+------------+-----------------+------------+-------------+-----+--------+------------+--------------+--------+-----------------+\n",
      "|_c0|assists|bonus|bps|clean_sheets|creativity|element|fixture|goals_conceded|goals_scored|ict_index|influence|       kickoff_time|minutes|   opponent_team|own_goals|penalties_missed|penalties_saved|red_cards|round|saves|selected|team_a_score|team_h_score|threat|total_points|transfers_balance|transfers_in|transfers_out|value|was_home|yellow_cards|          full|    team|              ppm|\n",
      "+---+-------+-----+---+------------+----------+-------+-------+--------------+------------+---------+---------+-------------------+-------+----------------+---------+----------------+---------------+---------+-----+-----+--------+------------+------------+------+------------+-----------------+------------+-------------+-----+--------+------------+--------------+--------+-----------------+\n",
      "|  1|      0|    0|  1|           0|       0.1|    534|     37|             1|           0|      0.0|      0.2|2019-08-31 14:00:00|     24|        Man City|        0|               0|              0|        0|    4|    0|       0|           0|           4|     0|           1|                0|           0|            0|  4.5|   false|           0|Aaron Connolly|Brighton|0.222222222222222|\n",
      "|  2|      0|    0|  1|           0|       0.3|    534|     43|             1|           0|      2.2|      1.0|2019-09-14 14:00:00|      6|         Burnley|        0|               0|              0|        0|    5|    0|   14029|           1|           1|    21|           1|            10589|       13500|         2911|  4.5|    true|           0|Aaron Connolly|Brighton|0.222222222222222|\n",
      "|  3|      0|    0|  1|           0|       4.8|    534|     58|             0|           0|      2.5|      2.0|2019-09-21 16:30:00|     20|Newcastle United|        0|               0|              0|        0|    6|    0|   22804|           0|           0|    18|           1|             8090|       11749|         3659|  4.5|   false|           0|Aaron Connolly|Brighton|0.222222222222222|\n",
      "|  4|      0|    0|  2|           0|       0.6|    534|     63|             1|           0|      0.1|      0.2|2019-09-28 14:00:00|     25|         Chelsea|        0|               0|              0|        0|    7|    0|   32699|           0|           2|     0|           1|             8437|       13439|         5002|  4.5|   false|           0|Aaron Connolly|Brighton|0.222222222222222|\n",
      "|  5|      0|    3| 53|           1|      23.8|    534|     72|             0|           2|     20.1|     70.2|2019-10-05 11:30:00|     79|       Tottenham|        0|               0|              0|        0|    8|    0|   35026|           0|           3|   107|          13|             2156|        5952|         3796|  4.5|    true|           0|Aaron Connolly|Brighton| 2.88888888888889|\n",
      "|  6|      0|    0|  3|           0|      10.6|    534|     81|             1|           0|      3.6|      4.4|2019-10-19 14:00:00|     45|     Aston Villa|        0|               0|              0|        0|    9|    0|  110944|           1|           2|    21|           1|            70802|       81069|        10267|  4.5|   false|           0|Aaron Connolly|Brighton|0.222222222222222|\n",
      "|  7|      2|    0| 22|           0|       0.3|    534|     92|             2|           0|      0.2|      0.0|2019-10-26 14:00:00|     79|         Everton|        0|               0|              0|        0|   10|    0|  146247|           2|           3|     2|           8|            34969|       42593|         7624|  4.6|    true|           0|Aaron Connolly|Brighton| 1.73913043478261|\n",
      "|  8|      0|    0|  2|           1|       5.8|    534|    104|             0|           0|      4.8|      0.0|2019-11-02 15:00:00|     85|         Norwich|        0|               0|              0|        0|   11|    0|  263242|           0|           2|    46|           2|           109148|      118970|         9822|  4.6|    true|           0|Aaron Connolly|Brighton|0.434782608695652|\n",
      "|  9|      0|    0| -5|           0|       1.3|    534|    115|             2|           0|      0.3|      0.0|2019-11-10 14:00:00|     45|         Man Utd|        0|               0|              0|        0|   12|    0|  246255|           1|           3|     4|           1|           -10884|       18973|        29857|  4.7|   false|           0|Aaron Connolly|Brighton|0.212765957446809|\n",
      "| 10|      0|    0|  0|           0|       0.0|    534|    124|             0|           0|      0.0|      0.0|2019-11-23 15:00:00|      0|       Leicester|        0|               0|              0|        0|   13|    0|  208149|           2|           0|     0|           0|           -38688|       10462|        49150|  4.7|    true|           0|Aaron Connolly|Brighton|              0.0|\n",
      "+---+-------+-----+---+------------+----------+-------+-------+--------------+------------+---------+---------+-------------------+-------+----------------+---------+----------------+---------------+---------+-----+-----+--------+------------+------------+------+------------+-----------------+------------+-------------+-----+--------+------------+--------------+--------+-----------------+\n",
      "only showing top 10 rows\n",
      "\n"
     ]
    }
   ],
   "source": [
    "path = 'datasets/players_1920_fin.csv'\n",
    "df = sqlContext.read.csv(path, header = True, quote = '\"', sep = \",\", inferSchema = True)\n",
    "df.show(10)"
   ]
  },
  {
   "cell_type": "code",
   "execution_count": 3,
   "id": "8af798bc",
   "metadata": {},
   "outputs": [
    {
     "name": "stdout",
     "output_type": "stream",
     "text": [
      "root\n",
      " |-- _c0: integer (nullable = true)\n",
      " |-- assists: integer (nullable = true)\n",
      " |-- bonus: integer (nullable = true)\n",
      " |-- bps: integer (nullable = true)\n",
      " |-- clean_sheets: integer (nullable = true)\n",
      " |-- creativity: double (nullable = true)\n",
      " |-- element: integer (nullable = true)\n",
      " |-- fixture: integer (nullable = true)\n",
      " |-- goals_conceded: integer (nullable = true)\n",
      " |-- goals_scored: integer (nullable = true)\n",
      " |-- ict_index: double (nullable = true)\n",
      " |-- influence: double (nullable = true)\n",
      " |-- kickoff_time: string (nullable = true)\n",
      " |-- minutes: integer (nullable = true)\n",
      " |-- opponent_team: string (nullable = true)\n",
      " |-- own_goals: integer (nullable = true)\n",
      " |-- penalties_missed: integer (nullable = true)\n",
      " |-- penalties_saved: integer (nullable = true)\n",
      " |-- red_cards: integer (nullable = true)\n",
      " |-- round: integer (nullable = true)\n",
      " |-- saves: integer (nullable = true)\n",
      " |-- selected: integer (nullable = true)\n",
      " |-- team_a_score: integer (nullable = true)\n",
      " |-- team_h_score: integer (nullable = true)\n",
      " |-- threat: integer (nullable = true)\n",
      " |-- total_points: integer (nullable = true)\n",
      " |-- transfers_balance: integer (nullable = true)\n",
      " |-- transfers_in: integer (nullable = true)\n",
      " |-- transfers_out: integer (nullable = true)\n",
      " |-- value: double (nullable = true)\n",
      " |-- was_home: boolean (nullable = true)\n",
      " |-- yellow_cards: integer (nullable = true)\n",
      " |-- full: string (nullable = true)\n",
      " |-- team: string (nullable = true)\n",
      " |-- ppm: double (nullable = true)\n",
      "\n"
     ]
    }
   ],
   "source": [
    "df.printSchema()"
   ]
  },
  {
   "cell_type": "code",
   "execution_count": 4,
   "id": "64b8bee1",
   "metadata": {},
   "outputs": [],
   "source": [
    "df_2 = df[['full', 'Team', 'opponent_team', 'goals_conceded', 'goals_scored']]#, 'own_goals']]"
   ]
  },
  {
   "cell_type": "code",
   "execution_count": 5,
   "id": "0c58fe78",
   "metadata": {},
   "outputs": [
    {
     "name": "stdout",
     "output_type": "stream",
     "text": [
      "+--------------+--------+----------------+--------------+------------+\n",
      "|          full|    Team|   opponent_team|goals_conceded|goals_scored|\n",
      "+--------------+--------+----------------+--------------+------------+\n",
      "|Aaron Connolly|Brighton|        Man City|             1|           0|\n",
      "|Aaron Connolly|Brighton|         Burnley|             1|           0|\n",
      "|Aaron Connolly|Brighton|Newcastle United|             0|           0|\n",
      "|Aaron Connolly|Brighton|         Chelsea|             1|           0|\n",
      "|Aaron Connolly|Brighton|       Tottenham|             0|           2|\n",
      "|Aaron Connolly|Brighton|     Aston Villa|             1|           0|\n",
      "|Aaron Connolly|Brighton|         Everton|             2|           0|\n",
      "|Aaron Connolly|Brighton|         Norwich|             0|           0|\n",
      "|Aaron Connolly|Brighton|         Man Utd|             2|           0|\n",
      "|Aaron Connolly|Brighton|       Leicester|             0|           0|\n",
      "+--------------+--------+----------------+--------------+------------+\n",
      "only showing top 10 rows\n",
      "\n"
     ]
    }
   ],
   "source": [
    "df_2.show(10)"
   ]
  },
  {
   "cell_type": "code",
   "execution_count": 6,
   "id": "d97c1e8a",
   "metadata": {},
   "outputs": [],
   "source": [
    "# math_score_array = np.array(scores['math score'])\n",
    "# reading_score_array = np.array(scores['reading score'])\n",
    "# writing_score_array = np.array(scores['writing score'])\n",
    "goals_conceded_array = np.array(df_2['goals_conceded'])\n",
    "goals_scored_array = np.array(df_2['goals_scored'])\n",
    "#own_goals_array = np.array(df_2['own_goals'])"
   ]
  },
  {
   "cell_type": "code",
   "execution_count": 7,
   "id": "203eaeb6",
   "metadata": {},
   "outputs": [],
   "source": [
    "#total_scores = math_score_array + reading_score_array + writing_score_array\n",
    "goal_total = goals_scored_array - goals_conceded_array #[goals_conceded_array + own_goals_array]"
   ]
  },
  {
   "cell_type": "code",
   "execution_count": 8,
   "id": "32d4b6b5",
   "metadata": {},
   "outputs": [
    {
     "ename": "TypeError",
     "evalue": "'Column' object is not callable",
     "output_type": "error",
     "traceback": [
      "\u001b[0;31m---------------------------------------------------------------------------\u001b[0m",
      "\u001b[0;31mTypeError\u001b[0m                                 Traceback (most recent call last)",
      "\u001b[0;32m<ipython-input-8-1de2b0065aa5>\u001b[0m in \u001b[0;36m<module>\u001b[0;34m\u001b[0m\n\u001b[1;32m      1\u001b[0m \u001b[0;31m# scores['total score'] = total_scores.tolist()\u001b[0m\u001b[0;34m\u001b[0m\u001b[0;34m\u001b[0m\u001b[0;34m\u001b[0m\u001b[0m\n\u001b[1;32m      2\u001b[0m \u001b[0;31m# scores.head()\u001b[0m\u001b[0;34m\u001b[0m\u001b[0;34m\u001b[0m\u001b[0;34m\u001b[0m\u001b[0m\n\u001b[0;32m----> 3\u001b[0;31m \u001b[0mdf_2\u001b[0m\u001b[0;34m[\u001b[0m\u001b[0;34m'net goals'\u001b[0m\u001b[0;34m]\u001b[0m \u001b[0;34m=\u001b[0m \u001b[0mgoal_total\u001b[0m\u001b[0;34m.\u001b[0m\u001b[0mtolist\u001b[0m\u001b[0;34m(\u001b[0m\u001b[0;34m)\u001b[0m\u001b[0;34m\u001b[0m\u001b[0;34m\u001b[0m\u001b[0m\n\u001b[0m\u001b[1;32m      4\u001b[0m \u001b[0;31m#df_2.head()\u001b[0m\u001b[0;34m\u001b[0m\u001b[0;34m\u001b[0m\u001b[0;34m\u001b[0m\u001b[0m\n\u001b[1;32m      5\u001b[0m \u001b[0;31m#print(goal_total.)\u001b[0m\u001b[0;34m\u001b[0m\u001b[0;34m\u001b[0m\u001b[0;34m\u001b[0m\u001b[0m\n",
      "\u001b[0;31mTypeError\u001b[0m: 'Column' object is not callable"
     ]
    }
   ],
   "source": [
    "# scores['total score'] = total_scores.tolist()\n",
    "# scores.head()\n",
    "df_2['net goals'] = goal_total.tolist()\n",
    "#df_2.head()\n",
    "#print(goal_total.)"
   ]
  },
  {
   "cell_type": "code",
   "execution_count": null,
   "id": "456c77f4",
   "metadata": {},
   "outputs": [],
   "source": []
  }
 ],
 "metadata": {
  "kernelspec": {
   "display_name": "Python 3",
   "language": "python",
   "name": "python3"
  },
  "language_info": {
   "codemirror_mode": {
    "name": "ipython",
    "version": 3
   },
   "file_extension": ".py",
   "mimetype": "text/x-python",
   "name": "python",
   "nbconvert_exporter": "python",
   "pygments_lexer": "ipython3",
   "version": "3.8.8"
  }
 },
 "nbformat": 4,
 "nbformat_minor": 5
}
