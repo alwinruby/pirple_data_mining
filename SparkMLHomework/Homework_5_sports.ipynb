{
 "cells": [
  {
   "cell_type": "code",
   "execution_count": null,
   "id": "ef0316e1",
   "metadata": {},
   "outputs": [],
   "source": [
    "import pyspark as ps\n",
    "import seaborn as sns\n",
    "import matplotlib.pyplot as plt\n",
    "from pyspark import SQLContext\n",
    "from pyspark.sql import functions as f\n",
    "\n",
    "spark = ps.sql.SparkSession.builder.master('local') \\\n",
    "    .appName('SportsProject').getOrCreate()\n",
    "\n",
    "sc = spark.sparkContext\n",
    "sqlContext = SQLContext(sc)\n",
    "print(\"modules imported\")"
   ]
  },
  {
   "cell_type": "code",
   "execution_count": null,
   "id": "f5d9d402",
   "metadata": {},
   "outputs": [],
   "source": [
    "# pip install pyspark"
   ]
  },
  {
   "cell_type": "code",
   "execution_count": null,
   "id": "2868846b",
   "metadata": {},
   "outputs": [],
   "source": []
  }
 ],
 "metadata": {
  "kernelspec": {
   "display_name": "Python 3",
   "language": "python",
   "name": "python3"
  },
  "language_info": {
   "codemirror_mode": {
    "name": "ipython",
    "version": 3
   },
   "file_extension": ".py",
   "mimetype": "text/x-python",
   "name": "python",
   "nbconvert_exporter": "python",
   "pygments_lexer": "ipython3",
   "version": "3.8.8"
  }
 },
 "nbformat": 4,
 "nbformat_minor": 5
}
