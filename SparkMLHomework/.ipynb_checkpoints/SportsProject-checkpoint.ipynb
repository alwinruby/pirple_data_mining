{
 "cells": [
  {
   "cell_type": "code",
   "execution_count": 1,
   "metadata": {},
   "outputs": [
    {
     "name": "stdout",
     "output_type": "stream",
     "text": [
      "modules imported\n"
     ]
    }
   ],
   "source": [
    "import pyspark as ps\n",
    "import seaborn as sns\n",
    "import matplotlib.pyplot as plt\n",
    "from pyspark import SQLContext\n",
    "from pyspark.sql import functions as f\n",
    "\n",
    "spark = ps.sql.SparkSession.builder.master('local') \\\n",
    "    .appName('SportsProject').getOrCreate()\n",
    "\n",
    "sc = spark.sparkContext\n",
    "sqlContext = SQLContext(sc)\n",
    "print(\"modules imported\")"
   ]
  },
  {
   "cell_type": "code",
   "execution_count": 2,
   "metadata": {},
   "outputs": [
    {
     "name": "stdout",
     "output_type": "stream",
     "text": [
      "+-----------------+-------+-----------+--------+---+-------+------+----+-----+-------+----------------+---------------------+-------------+-----------------+----+----+------------+---------+\n",
      "|             Name|   Club|Nationality|Position|Age|Matches|Starts|Mins|Goals|Assists|Passes_Attempted|Perc_Passes_Completed|Penalty_Goals|Penalty_Attempted|  xG|  xA|Yellow_Cards|Red_Cards|\n",
      "+-----------------+-------+-----------+--------+---+-------+------+----+-----+-------+----------------+---------------------+-------------+-----------------+----+----+------------+---------+\n",
      "|      Mason Mount|Chelsea|        ENG|   MF,FW| 21|     36|    32|2890|    6|      5|            1881|                 82.3|            1|                1|0.21|0.24|           2|        0|\n",
      "|    Edouard Mendy|Chelsea|        SEN|      GK| 28|     31|    31|2745|    0|      0|            1007|                 84.6|            0|                0| 0.0| 0.0|           2|        0|\n",
      "|      Timo Werner|Chelsea|        GER|      FW| 24|     35|    29|2602|    6|      8|             826|                 77.2|            0|                0|0.41|0.21|           2|        0|\n",
      "|     Ben Chilwell|Chelsea|        ENG|      DF| 23|     27|    27|2286|    3|      5|            1806|                 78.6|            0|                0| 0.1|0.11|           3|        0|\n",
      "|      Reece James|Chelsea|        ENG|      DF| 20|     32|    25|2373|    1|      2|            1987|                 85.0|            0|                0|0.06|0.12|           3|        0|\n",
      "|César Azpilicueta|Chelsea|        ESP|      DF| 30|     26|    24|2188|    1|      2|            2015|                 87.5|            0|                0|0.03|0.11|           5|        1|\n",
      "|     N'Golo Kanté|Chelsea|        FRA|      MF| 29|     30|    24|2146|    0|      2|            1504|                 86.6|            0|                0|0.04|0.05|           7|        0|\n",
      "|         Jorginho|Chelsea|        ITA|      MF| 28|     28|    23|2010|    7|      1|            1739|                 89.5|            7|                9|0.31|0.09|           2|        0|\n",
      "|     Thiago Silva|Chelsea|        BRA|      DF| 35|     23|    23|1935|    2|      0|            1871|                 93.5|            0|                0|0.05|0.02|           5|        1|\n",
      "|       Kurt Zouma|Chelsea|        FRA|      DF| 25|     24|    22|2029|    5|      0|            1720|                 91.9|            0|                0|0.08| 0.0|           3|        0|\n",
      "+-----------------+-------+-----------+--------+---+-------+------+----+-----+-------+----------------+---------------------+-------------+-----------------+----+----+------------+---------+\n",
      "only showing top 10 rows\n",
      "\n"
     ]
    }
   ],
   "source": [
    "path = 'EPL_20_21.csv'\n",
    "df = sqlContext.read.csv(path, header = True, quote = '\"', sep = \",\", inferSchema = True)\n",
    "df.show(10)"
   ]
  },
  {
   "cell_type": "code",
   "execution_count": 3,
   "metadata": {},
   "outputs": [
    {
     "name": "stdout",
     "output_type": "stream",
     "text": [
      "root\n",
      " |-- Name: string (nullable = true)\n",
      " |-- Club: string (nullable = true)\n",
      " |-- Nationality: string (nullable = true)\n",
      " |-- Position: string (nullable = true)\n",
      " |-- Age: integer (nullable = true)\n",
      " |-- Matches: integer (nullable = true)\n",
      " |-- Starts: integer (nullable = true)\n",
      " |-- Mins: integer (nullable = true)\n",
      " |-- Goals: integer (nullable = true)\n",
      " |-- Assists: integer (nullable = true)\n",
      " |-- Passes_Attempted: integer (nullable = true)\n",
      " |-- Perc_Passes_Completed: double (nullable = true)\n",
      " |-- Penalty_Goals: integer (nullable = true)\n",
      " |-- Penalty_Attempted: integer (nullable = true)\n",
      " |-- xG: double (nullable = true)\n",
      " |-- xA: double (nullable = true)\n",
      " |-- Yellow_Cards: integer (nullable = true)\n",
      " |-- Red_Cards: integer (nullable = true)\n",
      "\n"
     ]
    }
   ],
   "source": [
    "df.printSchema()"
   ]
  },
  {
   "cell_type": "code",
   "execution_count": 4,
   "metadata": {},
   "outputs": [
    {
     "data": {
      "text/plain": [
       "532"
      ]
     },
     "execution_count": 4,
     "metadata": {},
     "output_type": "execute_result"
    }
   ],
   "source": [
    "df.count()"
   ]
  },
  {
   "cell_type": "code",
   "execution_count": 5,
   "metadata": {},
   "outputs": [
    {
     "data": {
      "text/plain": [
       "20"
      ]
     },
     "execution_count": 5,
     "metadata": {},
     "output_type": "execute_result"
    }
   ],
   "source": [
    "df.select('Club').distinct().count()"
   ]
  },
  {
   "cell_type": "code",
   "execution_count": 6,
   "metadata": {},
   "outputs": [
    {
     "name": "stdout",
     "output_type": "stream",
     "text": [
      "+--------------------+\n",
      "|                Club|\n",
      "+--------------------+\n",
      "|            Brighton|\n",
      "|   Manchester United|\n",
      "|             Arsenal|\n",
      "|    Sheffield United|\n",
      "|    Newcastle United|\n",
      "|        Leeds United|\n",
      "|      Crystal Palace|\n",
      "|             Burnley|\n",
      "|         Aston Villa|\n",
      "|     Manchester City|\n",
      "|              Fulham|\n",
      "|         Southampton|\n",
      "|      Leicester City|\n",
      "|   Tottenham Hotspur|\n",
      "|Wolverhampton Wan...|\n",
      "|        Liverpool FC|\n",
      "|West Bromwich Albion|\n",
      "|             Chelsea|\n",
      "|     West Ham United|\n",
      "|             Everton|\n",
      "+--------------------+\n",
      "\n"
     ]
    }
   ],
   "source": [
    "df.select('Club').distinct().show()"
   ]
  },
  {
   "cell_type": "code",
   "execution_count": 16,
   "metadata": {},
   "outputs": [
    {
     "data": {
      "text/plain": [
       "[Row(Name='Anwar El Ghazi'),\n",
       " Row(Name='Pierre Højbjerg'),\n",
       " Row(Name='Raúl Jiménez'),\n",
       " Row(Name='Mohammed Salisu'),\n",
       " Row(Name='Kyle Walker'),\n",
       " Row(Name='Max Lowe'),\n",
       " Row(Name='Edinson Cavani'),\n",
       " Row(Name='Isaac Hayden'),\n",
       " Row(Name='Daniel Podence'),\n",
       " Row(Name='Jóhann Berg Guðmundsson')]"
      ]
     },
     "execution_count": 16,
     "metadata": {},
     "output_type": "execute_result"
    }
   ],
   "source": [
    "#First 10 players\n",
    "df.select('Name').distinct().head(10)"
   ]
  },
  {
   "cell_type": "code",
   "execution_count": 8,
   "metadata": {},
   "outputs": [],
   "source": [
    "df_team = df\n",
    "#df_team = df[df['Club'] == 'Crystal Palace']\n",
    "#df_team.count()"
   ]
  },
  {
   "cell_type": "code",
   "execution_count": 9,
   "metadata": {},
   "outputs": [],
   "source": [
    "def print_quantiles(df, feature):\n",
    "    min_value = df.select(feature).rdd.min()[0]\n",
    "    max_value = df.select(feature).rdd.max()[0]\n",
    "    quantiles = df.approxQuantile(feature, [0.25, 0.5, 0.75], 0)\n",
    "    \n",
    "    print('min {}: {}'.format(feature, min_value))\n",
    "    print('max {}: {}'.format(feature, max_value))\n",
    "    print('median {}: {}'.format(feature, quantiles[1]))\n",
    "    print('lower quartile {}: {}'.format(feature, quantiles[0]))\n",
    "    print('upper quartile {}: {}'.format(feature, quantiles[2]))\n",
    "# def print_quantiles(df, feature):\n",
    "#     min_value = df_team.select(feature).rdd.min()[0]\n",
    "#     max_value = df_team.select(feature).rdd.max()[0]\n",
    "#     quantiles = df_team.approxQuantile(feature, [0.25, 0.5, 0.75], 0)\n",
    "    \n",
    "#     print('min {}: {}'.format(feature, min_value))\n",
    "#     print('max {}: {}'.format(feature, max_value))\n",
    "#     print('median {}: {}'.format(feature, quantiles[1]))\n",
    "#     print('lower quartile {}: {}'.format(feature, quantiles[0]))\n",
    "#     print('upper quartile {}: {}'.format(feature, quantiles[2]))"
   ]
  },
  {
   "cell_type": "code",
   "execution_count": 11,
   "metadata": {},
   "outputs": [
    {
     "name": "stdout",
     "output_type": "stream",
     "text": [
      "min Starts: 0\n",
      "max Starts: 38\n",
      "median Starts: 15.0\n",
      "lower quartile Starts: 4.0\n",
      "upper quartile Starts: 27.0\n"
     ]
    }
   ],
   "source": [
    "print_quantiles(df, 'Starts')"
   ]
  },
  {
   "cell_type": "code",
   "execution_count": 12,
   "metadata": {},
   "outputs": [
    {
     "name": "stdout",
     "output_type": "stream",
     "text": [
      "min Perc_Passes_Completed: -1.0\n",
      "max Perc_Passes_Completed: 100.0\n",
      "median Perc_Passes_Completed: 79.2\n",
      "lower quartile Perc_Passes_Completed: 73.5\n",
      "upper quartile Perc_Passes_Completed: 84.6\n"
     ]
    }
   ],
   "source": [
    "print_quantiles(df, 'Perc_Passes_Completed')"
   ]
  },
  {
   "cell_type": "code",
   "execution_count": 13,
   "metadata": {},
   "outputs": [
    {
     "name": "stdout",
     "output_type": "stream",
     "text": [
      "min Passes_Attempted: 0\n",
      "max Passes_Attempted: 3214\n",
      "median Passes_Attempted: 573.0\n",
      "lower quartile Passes_Attempted: 170.0\n",
      "upper quartile Passes_Attempted: 1127.0\n"
     ]
    }
   ],
   "source": [
    "print_quantiles(df, 'Passes_Attempted')"
   ]
  },
  {
   "cell_type": "code",
   "execution_count": 14,
   "metadata": {},
   "outputs": [
    {
     "name": "stdout",
     "output_type": "stream",
     "text": [
      "min Goals: 0\n",
      "max Goals: 23\n",
      "median Goals: 1.0\n",
      "lower quartile Goals: 0.0\n",
      "upper quartile Goals: 2.0\n"
     ]
    }
   ],
   "source": [
    "print_quantiles(df, 'Goals')"
   ]
  },
  {
   "cell_type": "code",
   "execution_count": 15,
   "metadata": {},
   "outputs": [
    {
     "name": "stdout",
     "output_type": "stream",
     "text": [
      "min Assists: 0\n",
      "max Assists: 14\n",
      "median Assists: 0.0\n",
      "lower quartile Assists: 0.0\n",
      "upper quartile Assists: 2.0\n"
     ]
    }
   ],
   "source": [
    "print_quantiles(df, 'Assists')"
   ]
  },
  {
   "cell_type": "code",
   "execution_count": 18,
   "metadata": {},
   "outputs": [
    {
     "name": "stdout",
     "output_type": "stream",
     "text": [
      "+--------------------+------------------+------------------+\n",
      "|                Club|           sum(xG)|           sum(xA)|\n",
      "+--------------------+------------------+------------------+\n",
      "|            Brighton|3.3900000000000006|2.3600000000000003|\n",
      "|   Manchester United|3.1599999999999997|              2.55|\n",
      "|             Arsenal|3.6599999999999997|2.4200000000000004|\n",
      "|    Sheffield United|              3.67|1.3300000000000003|\n",
      "|    Newcastle United|              2.65|1.5500000000000003|\n",
      "|        Leeds United|              2.68|               2.0|\n",
      "|      Crystal Palace|1.6200000000000003|1.0900000000000003|\n",
      "|             Burnley|              2.17|1.1300000000000003|\n",
      "|         Aston Villa|3.2799999999999994|              2.04|\n",
      "|     Manchester City|              3.88|2.5199999999999996|\n",
      "|              Fulham|2.9899999999999993|1.6700000000000004|\n",
      "|         Southampton|              2.37|              1.59|\n",
      "|      Leicester City|3.3499999999999996|              2.17|\n",
      "|   Tottenham Hotspur|3.1000000000000005|1.8000000000000005|\n",
      "|Wolverhampton Wan...|               3.1|2.3200000000000003|\n",
      "|        Liverpool FC|              3.87|2.7200000000000006|\n",
      "|West Bromwich Albion|              2.41|1.1900000000000004|\n",
      "|             Chelsea|               3.7|2.3200000000000003|\n",
      "|     West Ham United|2.7500000000000004|               2.1|\n",
      "|             Everton|              2.47|1.7800000000000002|\n",
      "+--------------------+------------------+------------------+\n",
      "\n"
     ]
    }
   ],
   "source": [
    "overall_performance = df.groupBy('Club').sum('xG', 'xA')\n",
    "overall_performance.show()"
   ]
  },
  {
   "cell_type": "code",
   "execution_count": 23,
   "metadata": {},
   "outputs": [
    {
     "data": {
      "text/plain": [
       "<matplotlib.axes._subplots.AxesSubplot at 0x7fa492961910>"
      ]
     },
     "execution_count": 23,
     "metadata": {},
     "output_type": "execute_result"
    },
    {
     "data": {
      "image/png": "[encoded data removed]",
      "text/plain": [
       "<Figure size 3600x720 with 1 Axes>"
      ]
     },
     "metadata": {
      "needs_background": "light"
     },
     "output_type": "display_data"
    }
   ],
   "source": [
    "plt.figure(figsize = (50, 10))\n",
    "sns.boxplot(x = 'Club', y = 'sum(xG)',\n",
    "            data = overall_performance.toPandas())"
   ]
  },
  {
   "cell_type": "code",
   "execution_count": 24,
   "metadata": {},
   "outputs": [
    {
     "data": {
      "text/plain": [
       "<matplotlib.axes._subplots.AxesSubplot at 0x7fa4916417c0>"
      ]
     },
     "execution_count": 24,
     "metadata": {},
     "output_type": "execute_result"
    },
    {
     "data": {
      "image/png": "[encoded data removed]",
      "text/plain": [
       "<Figure size 3600x720 with 1 Axes>"
      ]
     },
     "metadata": {
      "needs_background": "light"
     },
     "output_type": "display_data"
    }
   ],
   "source": [
    "plt.figure(figsize = (50, 10))\n",
    "sns.boxplot(x = 'Club', y = 'sum(xA)',\n",
    "            data = overall_performance.toPandas())"
   ]
  },
  {
   "cell_type": "code",
   "execution_count": 25,
   "metadata": {},
   "outputs": [],
   "source": [
    "from pyspark.sql.types import StructType, \\\n",
    "    StructField, StringType, FloatType\n",
    "\n",
    "schema = StructType([ \\\n",
    "    StructField('Club_1', StringType(), True), \\\n",
    "    StructField('Club_1_Score', FloatType(), True), \\\n",
    "    StructField('Club_2', StringType(), True), \\\n",
    "    StructField('Club_2_Score', FloatType(), True), \\\n",
    "  ])"
   ]
  },
  {
   "cell_type": "code",
   "execution_count": 26,
   "metadata": {},
   "outputs": [],
   "source": [
    "clubs = overall_performance.select('Club').rdd.flatMap(lambda x: x).collect()\n",
    "GoalsScored = overall_performance.select('sum(xG)').rdd.flatMap(lambda x: x).collect()\n",
    "GoalsAgainst = overall_performance.select('sum(xA)').rdd.flatMap(lambda x: x).collect()\n",
    "club1 = []\n",
    "club2 = []\n",
    "club1_score = []\n",
    "club2_score = []\n",
    "for i in range(len(clubs)):\n",
    "    for j in range(i + 1, len(clubs)):\n",
    "        club1.append(clubs[i])\n",
    "        club2.append(clubs[j])\n",
    "        club1_score.append(GoalsScored[i] + GoalsAgainst[i])\n",
    "        club2_score.append(GoalsScored[j] + GoalsAgainst[j])"
   ]
  },
  {
   "cell_type": "code",
   "execution_count": 30,
   "metadata": {},
   "outputs": [
    {
     "name": "stdout",
     "output_type": "stream",
     "text": [
      "+-----------------+------------+--------------------+------------+\n",
      "|           Club_1|Club_1_Score|              Club_2|Club_2_Score|\n",
      "+-----------------+------------+--------------------+------------+\n",
      "|         Brighton|        5.75|   Manchester United|        5.71|\n",
      "|         Brighton|        5.75|             Arsenal|        6.08|\n",
      "|         Brighton|        5.75|    Sheffield United|         5.0|\n",
      "|         Brighton|        5.75|    Newcastle United|         4.2|\n",
      "|         Brighton|        5.75|        Leeds United|        4.68|\n",
      "|         Brighton|        5.75|      Crystal Palace|        2.71|\n",
      "|         Brighton|        5.75|             Burnley|         3.3|\n",
      "|         Brighton|        5.75|         Aston Villa|        5.32|\n",
      "|         Brighton|        5.75|     Manchester City|         6.4|\n",
      "|         Brighton|        5.75|              Fulham|        4.66|\n",
      "|         Brighton|        5.75|         Southampton|        3.96|\n",
      "|         Brighton|        5.75|      Leicester City|        5.52|\n",
      "|         Brighton|        5.75|   Tottenham Hotspur|         4.9|\n",
      "|         Brighton|        5.75|Wolverhampton Wan...|        5.42|\n",
      "|         Brighton|        5.75|        Liverpool FC|        6.59|\n",
      "|         Brighton|        5.75|West Bromwich Albion|         3.6|\n",
      "|         Brighton|        5.75|             Chelsea|        6.02|\n",
      "|         Brighton|        5.75|     West Ham United|        4.85|\n",
      "|         Brighton|        5.75|             Everton|        4.25|\n",
      "|Manchester United|        5.71|             Arsenal|        6.08|\n",
      "+-----------------+------------+--------------------+------------+\n",
      "only showing top 20 rows\n",
      "\n"
     ]
    }
   ],
   "source": [
    "data = []\n",
    "for i in range(len(club1)):\n",
    "    data.append((club1[i], club1_score[i], club2[i], club2_score[i]))\n",
    "    \n",
    "new_df = spark.createDataFrame(data = data, schema = schema)\n",
    "new_df.show()"
   ]
  },
  {
   "cell_type": "code",
   "execution_count": 34,
   "metadata": {},
   "outputs": [
    {
     "name": "stdout",
     "output_type": "stream",
     "text": [
      "+-----------------+------------+--------------------+------------+---------------------+\n",
      "|           Club_1|Club_1_Score|              Club_2|Club_2_Score|Club_1_Win_Likelihood|\n",
      "+-----------------+------------+--------------------+------------+---------------------+\n",
      "|         Brighton|        5.75|   Manchester United|        5.71|   0.5017451990279179|\n",
      "|         Brighton|        5.75|             Arsenal|        6.08|   0.4860524122639777|\n",
      "|         Brighton|        5.75|    Sheffield United|         5.0|   0.5348837209302325|\n",
      "|         Brighton|        5.75|    Newcastle United|         4.2|   0.5778894583139363|\n",
      "|         Brighton|        5.75|        Leeds United|        4.68|   0.5512943271100981|\n",
      "|         Brighton|        5.75|      Crystal Palace|        2.71|    0.679669027668166|\n",
      "|         Brighton|        5.75|             Burnley|         3.3|   0.6353591026314772|\n",
      "|         Brighton|        5.75|         Aston Villa|        5.32|   0.5194218752046049|\n",
      "|         Brighton|        5.75|     Manchester City|         6.4|  0.47325104366509846|\n",
      "|         Brighton|        5.75|              Fulham|        4.66|   0.5523535143402937|\n",
      "|         Brighton|        5.75|         Southampton|        3.96|   0.5921730151812968|\n",
      "|         Brighton|        5.75|      Leicester City|        5.52|   0.5102040609092383|\n",
      "|         Brighton|        5.75|   Tottenham Hotspur|         4.9|   0.5399061226251494|\n",
      "|         Brighton|        5.75|Wolverhampton Wan...|        5.42|   0.5147717064213102|\n",
      "|         Brighton|        5.75|        Liverpool FC|        6.59|  0.46596433783626295|\n",
      "|         Brighton|        5.75|West Bromwich Albion|         3.6|   0.6149732369418532|\n",
      "|         Brighton|        5.75|             Chelsea|        6.02|  0.48853014242724285|\n",
      "|         Brighton|        5.75|     West Ham United|        4.85|   0.5424528106670448|\n",
      "|         Brighton|        5.75|             Everton|        4.25|                0.575|\n",
      "|Manchester United|        5.71|             Arsenal|        6.08|   0.4843087410196679|\n",
      "+-----------------+------------+--------------------+------------+---------------------+\n",
      "only showing top 20 rows\n",
      "\n"
     ]
    }
   ],
   "source": [
    "new_df = new_df.withColumn('Club_1_Win_Likelihood', \n",
    "                  (new_df['Club_1_Score'] / (new_df['Club_1_Score'] + new_df['Club_2_Score'])))\n",
    "new_df.show()"
   ]
  },
  {
   "cell_type": "code",
   "execution_count": 36,
   "metadata": {},
   "outputs": [
    {
     "name": "stdout",
     "output_type": "stream",
     "text": [
      "+-----------------+------------+--------------------+------------+---------------------+---------------+\n",
      "|           Club_1|Club_1_Score|              Club_2|Club_2_Score|Club_1_Win_Likelihood|         Winner|\n",
      "+-----------------+------------+--------------------+------------+---------------------+---------------+\n",
      "|         Brighton|        5.75|   Manchester United|        5.71|   0.5017451990279179|       Brighton|\n",
      "|         Brighton|        5.75|             Arsenal|        6.08|   0.4860524122639777|        Arsenal|\n",
      "|         Brighton|        5.75|    Sheffield United|         5.0|   0.5348837209302325|       Brighton|\n",
      "|         Brighton|        5.75|    Newcastle United|         4.2|   0.5778894583139363|       Brighton|\n",
      "|         Brighton|        5.75|        Leeds United|        4.68|   0.5512943271100981|       Brighton|\n",
      "|         Brighton|        5.75|      Crystal Palace|        2.71|    0.679669027668166|       Brighton|\n",
      "|         Brighton|        5.75|             Burnley|         3.3|   0.6353591026314772|       Brighton|\n",
      "|         Brighton|        5.75|         Aston Villa|        5.32|   0.5194218752046049|       Brighton|\n",
      "|         Brighton|        5.75|     Manchester City|         6.4|  0.47325104366509846|Manchester City|\n",
      "|         Brighton|        5.75|              Fulham|        4.66|   0.5523535143402937|       Brighton|\n",
      "|         Brighton|        5.75|         Southampton|        3.96|   0.5921730151812968|       Brighton|\n",
      "|         Brighton|        5.75|      Leicester City|        5.52|   0.5102040609092383|       Brighton|\n",
      "|         Brighton|        5.75|   Tottenham Hotspur|         4.9|   0.5399061226251494|       Brighton|\n",
      "|         Brighton|        5.75|Wolverhampton Wan...|        5.42|   0.5147717064213102|       Brighton|\n",
      "|         Brighton|        5.75|        Liverpool FC|        6.59|  0.46596433783626295|   Liverpool FC|\n",
      "|         Brighton|        5.75|West Bromwich Albion|         3.6|   0.6149732369418532|       Brighton|\n",
      "|         Brighton|        5.75|             Chelsea|        6.02|  0.48853014242724285|        Chelsea|\n",
      "|         Brighton|        5.75|     West Ham United|        4.85|   0.5424528106670448|       Brighton|\n",
      "|         Brighton|        5.75|             Everton|        4.25|                0.575|       Brighton|\n",
      "|Manchester United|        5.71|             Arsenal|        6.08|   0.4843087410196679|        Arsenal|\n",
      "+-----------------+------------+--------------------+------------+---------------------+---------------+\n",
      "only showing top 20 rows\n",
      "\n"
     ]
    }
   ],
   "source": [
    "new_df = new_df.withColumn('Winner', \n",
    "                 f.when(f.col('Club_1_Score') > f.col('Club_2_Score'), \\\n",
    "                        f.col('Club_1')).otherwise(f.col('Club_2')))\n",
    "new_df.show()"
   ]
  },
  {
   "cell_type": "code",
   "execution_count": 44,
   "metadata": {},
   "outputs": [
    {
     "name": "stdout",
     "output_type": "stream",
     "text": [
      "+--------------------+-----+\n",
      "|              Winner|count|\n",
      "+--------------------+-----+\n",
      "|        Liverpool FC|   19|\n",
      "|     Manchester City|   18|\n",
      "|             Arsenal|   17|\n",
      "|             Chelsea|   16|\n",
      "|            Brighton|   15|\n",
      "|   Manchester United|   14|\n",
      "|      Leicester City|   13|\n",
      "|Wolverhampton Wan...|   12|\n",
      "|         Aston Villa|   11|\n",
      "|    Sheffield United|   10|\n",
      "|   Tottenham Hotspur|    9|\n",
      "|     West Ham United|    8|\n",
      "|        Leeds United|    7|\n",
      "|              Fulham|    6|\n",
      "|             Everton|    5|\n",
      "|    Newcastle United|    4|\n",
      "|         Southampton|    3|\n",
      "|West Bromwich Albion|    2|\n",
      "|             Burnley|    1|\n",
      "+--------------------+-----+\n",
      "\n"
     ]
    }
   ],
   "source": [
    "winning_count = new_df.groupBy('Winner').count().sort(f.col('count').desc())\n",
    "winning_count.show()"
   ]
  },
  {
   "cell_type": "code",
   "execution_count": null,
   "metadata": {},
   "outputs": [],
   "source": []
  }
 ],
 "metadata": {
  "kernelspec": {
   "display_name": "Python 3",
   "language": "python",
   "name": "python3"
  },
  "language_info": {
   "codemirror_mode": {
    "name": "ipython",
    "version": 3
   },
   "file_extension": ".py",
   "mimetype": "text/x-python",
   "name": "python",
   "nbconvert_exporter": "python",
   "pygments_lexer": "ipython3",
   "version": "3.8.3"
  }
 },
 "nbformat": 4,
 "nbformat_minor": 4
}
