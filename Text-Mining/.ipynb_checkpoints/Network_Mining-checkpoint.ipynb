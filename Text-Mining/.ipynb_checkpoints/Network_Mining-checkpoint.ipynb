{
 "cells": [
  {
   "cell_type": "markdown",
   "id": "714e2672",
   "metadata": {},
   "source": [
    "Making graphs in Python, there are many different libraries for creating, visualizing, and analyzing graphs in Python. 'networkx', visualizes graphs using the matplotlib engine."
   ]
  },
  {
   "cell_type": "code",
   "execution_count": 1,
   "id": "f6daaf09",
   "metadata": {},
   "outputs": [
    {
     "data": {
      "image/png": "[encoded data removed]",
      "text/plain": [
       "<Figure size 432x288 with 1 Axes>"
      ]
     },
     "metadata": {},
     "output_type": "display_data"
    }
   ],
   "source": [
    "import numpy as np\n",
    "import pandas as pd\n",
    "import scipy\n",
    "import sklearn\n",
    "import matplotlib.pyplot as plt\n",
    "import seaborn as sns\n",
    "\n",
    "%matplotlib inline\n",
    "\n",
    "import networkx as nx\n",
    "\n",
    "#conda install networkx  \n",
    "\n",
    "#Creating a directed graph\n",
    "G = nx.DiGraph()\n",
    "\n",
    "#Adding nodes.  We could have added them all in one list using .add_nodes_from()\n",
    "G.add_node('You')\n",
    "G.add_node('Mom')\n",
    "G.add_node('Aunt Alice')\n",
    "G.add_node('Fiancee')\n",
    "\n",
    "#Adding edges.  You can also add them individually using .add_edge() \n",
    "G.add_edges_from([('You','Mom'),('You','Fiancee')])\n",
    "G.add_edges_from([('Mom','You'),('Mom','Aunt Alice')])\n",
    "G.add_edges_from([('Aunt Alice','Mom'),('Aunt Alice','You'), ('You', 'Aunt Alice')])\n",
    "\n",
    "\n",
    "#Drawing the graph\n",
    "nx.draw_networkx(G,\n",
    "                 pos=nx.circular_layout(G), # Positions the nodes relative to each other\n",
    "                 node_size=1600, \n",
    "                 cmap=plt.cm.Blues, # The color palette to use to color the nodes.\n",
    "                 node_color=range(len(G)) #The number of shades of color to use.\n",
    "                 )\n",
    "plt.axis('off')\n",
    "plt.show()"
   ]
  },
  {
   "cell_type": "code",
   "execution_count": 2,
   "id": "6dbfbf94",
   "metadata": {},
   "outputs": [],
   "source": [
    "# pip install decorator==4.3 Need to downgrade decorator"
   ]
  },
  {
   "cell_type": "code",
   "execution_count": 3,
   "id": "4b8cd03b",
   "metadata": {},
   "outputs": [
    {
     "data": {
      "image/png": "[encoded data removed]",
      "text/plain": [
       "<Figure size 432x288 with 1 Axes>"
      ]
     },
     "metadata": {},
     "output_type": "display_data"
    }
   ],
   "source": [
    "nx.draw_networkx(G,\n",
    "                 pos=nx.spring_layout(G), # Positions the nodes relative to each other\n",
    "                 node_size=1600, \n",
    "                 cmap=plt.cm.Blues, # The color palette to use to color the nodes.\n",
    "                 node_color=range(len(G)) #The number of shades of color to use.\n",
    "                 )\n",
    "plt.axis('off')\n",
    "plt.show()"
   ]
  },
  {
   "cell_type": "code",
   "execution_count": 4,
   "id": "fe2f26bf",
   "metadata": {},
   "outputs": [
    {
     "data": {
      "text/plain": [
       "DiDegreeView({'You': 5, 'Mom': 4, 'Aunt Alice': 4, 'Fiancee': 1})"
      ]
     },
     "execution_count": 4,
     "metadata": {},
     "output_type": "execute_result"
    }
   ],
   "source": [
    "G.degree()"
   ]
  },
  {
   "cell_type": "code",
   "execution_count": 5,
   "id": "51c27236",
   "metadata": {},
   "outputs": [
    {
     "name": "stdout",
     "output_type": "stream",
     "text": [
      "This graph has 4 nodes and 7 edges.\n",
      "The \"Aunt Alice\" node has an in-degree of 2 and an out-degree of 2.\n",
      "The nodes are ['You', 'Mom', 'Aunt Alice', 'Fiancee'].\n",
      "The edges are [('You', 'Mom'), ('You', 'Fiancee'), ('You', 'Aunt Alice'), ('Mom', 'You'), ('Mom', 'Aunt Alice'), ('Aunt Alice', 'Mom'), ('Aunt Alice', 'You')].\n",
      "The betweenness centrality scores are {'You': 0.3333333333333333, 'Mom': 0.0, 'Aunt Alice': 0.0, 'Fiancee': 0.0}\n",
      "The node degrees are [('You', 5), ('Mom', 4), ('Aunt Alice', 4), ('Fiancee', 1)].\n"
     ]
    }
   ],
   "source": [
    "print(\"This graph has {} nodes and {} edges.\".format(G.number_of_nodes(),G.number_of_edges()))\n",
    "\n",
    "print('The \"Aunt Alice\" node has an in-degree of {} and an out-degree of {}.'.format(G.in_degree('Aunt Alice'),G.out_degree('Aunt Alice')))\n",
    "\n",
    "print(\"The nodes are {}.\".format(G.nodes()))\n",
    "\n",
    "print(\"The edges are {}.\".format(G.edges()))\n",
    "\n",
    "print(\"The betweenness centrality scores are {}\".format(nx.betweenness_centrality(G))) #Compute the shortest-path betweenness centrality for nodes. \n",
    "\n",
    "print('The node degrees are {}.'.format(G.degree())) #The node degree is the number of edges adjacent to that node."
   ]
  },
  {
   "cell_type": "markdown",
   "id": "72e417ee",
   "metadata": {},
   "source": [
    "**Hubs** - You are the node he hub of the network, with a high degree (4) and the highest betweenness centrality score (.33). That node touches many other nodes, and is part of the shortest path between many nodes. If we wanted to disseminate information throughout the network, it would be a good idea to start by telling \"You.\"\n",
    "\n",
    "**Paths**\n",
    "\n",
    "We can compute the lengths of all the simple paths between nodes. The return is a dictionary of pairwise node connectivity, giving the starting node and a list of all ending nodes with the length of the simple path connecting each starting/ending pair.\n",
    "\n",
    "Similarly, we can get a list of all the shortest paths. The return is a dictionary of dictionaries formatted such that source : { target1=[list of nodes in path], target2=[list of nodes in path]}."
   ]
  },
  {
   "cell_type": "code",
   "execution_count": 6,
   "id": "9d61e090",
   "metadata": {},
   "outputs": [
    {
     "name": "stdout",
     "output_type": "stream",
     "text": [
      "Simple paths: {'You': {'Mom': 2, 'Aunt Alice': 2, 'Fiancee': 1}, 'Mom': {'You': 2, 'Aunt Alice': 2, 'Fiancee': 1}, 'Aunt Alice': {'You': 2, 'Mom': 2, 'Fiancee': 1}, 'Fiancee': {'You': 0, 'Mom': 0, 'Aunt Alice': 0}} \n",
      "\n",
      "Shortest paths: {'You': {'You': ['You'], 'Mom': ['You', 'Mom'], 'Fiancee': ['You', 'Fiancee'], 'Aunt Alice': ['You', 'Aunt Alice']}, 'Mom': {'Mom': ['Mom'], 'You': ['Mom', 'You'], 'Aunt Alice': ['Mom', 'Aunt Alice'], 'Fiancee': ['Mom', 'You', 'Fiancee']}, 'Aunt Alice': {'Aunt Alice': ['Aunt Alice'], 'Mom': ['Aunt Alice', 'Mom'], 'You': ['Aunt Alice', 'You'], 'Fiancee': ['Aunt Alice', 'You', 'Fiancee']}, 'Fiancee': {'Fiancee': ['Fiancee']}}\n"
     ]
    }
   ],
   "source": [
    "print(\"Simple paths:\",nx.all_pairs_node_connectivity(G),'\\n')\n",
    "\n",
    "path = dict(nx.all_pairs_shortest_path(G))\n",
    "\n",
    "print(\"Shortest paths:\", path)"
   ]
  },
  {
   "cell_type": "code",
   "execution_count": 7,
   "id": "892d3664",
   "metadata": {},
   "outputs": [
    {
     "data": {
      "text/plain": [
       "<generator object all_pairs_shortest_path_length at 0x7f9275ecc6d0>"
      ]
     },
     "execution_count": 7,
     "metadata": {},
     "output_type": "execute_result"
    }
   ],
   "source": [
    "nx.all_pairs_shortest_path_length(G)"
   ]
  },
  {
   "cell_type": "code",
   "execution_count": null,
   "id": "79f9e936",
   "metadata": {},
   "outputs": [],
   "source": []
  }
 ],
 "metadata": {
  "kernelspec": {
   "display_name": "Python 3",
   "language": "python",
   "name": "python3"
  },
  "language_info": {
   "codemirror_mode": {
    "name": "ipython",
    "version": 3
   },
   "file_extension": ".py",
   "mimetype": "text/x-python",
   "name": "python",
   "nbconvert_exporter": "python",
   "pygments_lexer": "ipython3",
   "version": "3.8.8"
  }
 },
 "nbformat": 4,
 "nbformat_minor": 5
}
