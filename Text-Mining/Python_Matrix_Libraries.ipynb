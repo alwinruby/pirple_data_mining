{
 "cells": [
  {
   "cell_type": "code",
   "execution_count": 1,
   "id": "3d25787c",
   "metadata": {},
   "outputs": [],
   "source": [
    "import numpy as np\n",
    "import pandas as pd\n",
    "import scipy\n",
    "import sklearn\n",
    "import matplotlib.pyplot as plt\n",
    "import seaborn as sns\n",
    "\n",
    "%matplotlib inline"
   ]
  },
  {
   "cell_type": "code",
   "execution_count": 2,
   "id": "00a902e6",
   "metadata": {},
   "outputs": [],
   "source": [
    "A= np.array([[1,2,3], [4,5,6]])"
   ]
  },
  {
   "cell_type": "code",
   "execution_count": 3,
   "id": "e4bfc30f",
   "metadata": {},
   "outputs": [
    {
     "data": {
      "text/plain": [
       "array([[1, 2, 3],\n",
       "       [4, 5, 6]])"
      ]
     },
     "execution_count": 3,
     "metadata": {},
     "output_type": "execute_result"
    }
   ],
   "source": [
    "A"
   ]
  },
  {
   "cell_type": "code",
   "execution_count": 4,
   "id": "e93f3b5f",
   "metadata": {},
   "outputs": [
    {
     "data": {
      "text/plain": [
       "array([[1, 2, 3],\n",
       "       [4, 5, 6]])"
      ]
     },
     "execution_count": 4,
     "metadata": {},
     "output_type": "execute_result"
    }
   ],
   "source": [
    "A.T.T"
   ]
  },
  {
   "cell_type": "code",
   "execution_count": 5,
   "id": "a19bfb95",
   "metadata": {},
   "outputs": [],
   "source": [
    "B=np.array([[7,8,9], [10,11,12]])"
   ]
  },
  {
   "cell_type": "code",
   "execution_count": 6,
   "id": "f08a1578",
   "metadata": {},
   "outputs": [
    {
     "data": {
      "text/plain": [
       "array([[ 50,  68],\n",
       "       [122, 167]])"
      ]
     },
     "execution_count": 6,
     "metadata": {},
     "output_type": "execute_result"
    }
   ],
   "source": [
    "np.dot(A,B.T)"
   ]
  },
  {
   "cell_type": "code",
   "execution_count": 7,
   "id": "5a1f6f0a",
   "metadata": {},
   "outputs": [],
   "source": [
    "C=A**2"
   ]
  },
  {
   "cell_type": "code",
   "execution_count": 8,
   "id": "a8a77e50",
   "metadata": {},
   "outputs": [
    {
     "data": {
      "text/plain": [
       "array([[ 1,  4,  9],\n",
       "       [16, 25, 36]])"
      ]
     },
     "execution_count": 8,
     "metadata": {},
     "output_type": "execute_result"
    }
   ],
   "source": [
    "C"
   ]
  },
  {
   "cell_type": "code",
   "execution_count": 9,
   "id": "4517579d",
   "metadata": {},
   "outputs": [],
   "source": [
    "D= A-1"
   ]
  },
  {
   "cell_type": "code",
   "execution_count": 10,
   "id": "c45aa01d",
   "metadata": {},
   "outputs": [
    {
     "data": {
      "text/plain": [
       "array([[0, 1, 2],\n",
       "       [3, 4, 5]])"
      ]
     },
     "execution_count": 10,
     "metadata": {},
     "output_type": "execute_result"
    }
   ],
   "source": [
    "D"
   ]
  },
  {
   "cell_type": "code",
   "execution_count": 11,
   "id": "c3849889",
   "metadata": {},
   "outputs": [],
   "source": [
    "C2=np.array([[1,2,3], [1,2,3], [3,4,5]])"
   ]
  },
  {
   "cell_type": "code",
   "execution_count": 12,
   "id": "ee15db6f",
   "metadata": {},
   "outputs": [
    {
     "data": {
      "text/plain": [
       "array([[1, 2, 3],\n",
       "       [1, 2, 3],\n",
       "       [3, 4, 5]])"
      ]
     },
     "execution_count": 12,
     "metadata": {},
     "output_type": "execute_result"
    }
   ],
   "source": [
    "C2"
   ]
  },
  {
   "cell_type": "code",
   "execution_count": 13,
   "id": "9d0cff12",
   "metadata": {},
   "outputs": [
    {
     "data": {
      "text/plain": [
       "array([1, 2, 5])"
      ]
     },
     "execution_count": 13,
     "metadata": {},
     "output_type": "execute_result"
    }
   ],
   "source": [
    "C2.diagonal()"
   ]
  },
  {
   "cell_type": "code",
   "execution_count": 14,
   "id": "c5d1da01",
   "metadata": {},
   "outputs": [],
   "source": [
    "A=np.matrix(A)"
   ]
  },
  {
   "cell_type": "code",
   "execution_count": 15,
   "id": "785f901b",
   "metadata": {},
   "outputs": [
    {
     "data": {
      "text/plain": [
       "numpy.matrix"
      ]
     },
     "execution_count": 15,
     "metadata": {},
     "output_type": "execute_result"
    }
   ],
   "source": [
    "type(A)"
   ]
  },
  {
   "cell_type": "code",
   "execution_count": 16,
   "id": "6a2279cb",
   "metadata": {},
   "outputs": [],
   "source": [
    "B=np.matrix(B)"
   ]
  },
  {
   "cell_type": "code",
   "execution_count": 17,
   "id": "32fb7442",
   "metadata": {},
   "outputs": [],
   "source": [
    "C=np.matrix(C)"
   ]
  },
  {
   "cell_type": "code",
   "execution_count": 18,
   "id": "ecb4aea8",
   "metadata": {},
   "outputs": [
    {
     "data": {
      "text/plain": [
       "matrix([[1, 2, 3],\n",
       "        [4, 5, 6]])"
      ]
     },
     "execution_count": 18,
     "metadata": {},
     "output_type": "execute_result"
    }
   ],
   "source": [
    "A"
   ]
  },
  {
   "cell_type": "code",
   "execution_count": 19,
   "id": "05457812",
   "metadata": {},
   "outputs": [
    {
     "data": {
      "text/plain": [
       "(array([0, 0, 0, 1, 1, 1]), array([0, 1, 2, 0, 1, 2]))"
      ]
     },
     "execution_count": 19,
     "metadata": {},
     "output_type": "execute_result"
    }
   ],
   "source": [
    "A.nonzero()"
   ]
  },
  {
   "cell_type": "code",
   "execution_count": 20,
   "id": "e9d79128",
   "metadata": {},
   "outputs": [
    {
     "data": {
      "text/plain": [
       "matrix([[-6, -6, -6],\n",
       "        [-6, -6, -6]])"
      ]
     },
     "execution_count": 20,
     "metadata": {},
     "output_type": "execute_result"
    }
   ],
   "source": [
    "A-B"
   ]
  },
  {
   "cell_type": "code",
   "execution_count": 21,
   "id": "49f0eb10",
   "metadata": {},
   "outputs": [
    {
     "data": {
      "text/plain": [
       "matrix([[ 8, 10, 12],\n",
       "        [14, 16, 18]])"
      ]
     },
     "execution_count": 21,
     "metadata": {},
     "output_type": "execute_result"
    }
   ],
   "source": [
    "A+B"
   ]
  },
  {
   "cell_type": "code",
   "execution_count": 22,
   "id": "cb34ae6c",
   "metadata": {},
   "outputs": [
    {
     "data": {
      "text/plain": [
       "matrix([[ 50,  68],\n",
       "        [122, 167]])"
      ]
     },
     "execution_count": 22,
     "metadata": {},
     "output_type": "execute_result"
    }
   ],
   "source": [
    "A.dot(B.T)"
   ]
  },
  {
   "cell_type": "code",
   "execution_count": 23,
   "id": "96c3428e",
   "metadata": {},
   "outputs": [
    {
     "data": {
      "text/plain": [
       "matrix([[1, 2, 3],\n",
       "        [4, 5, 6]])"
      ]
     },
     "execution_count": 23,
     "metadata": {},
     "output_type": "execute_result"
    }
   ],
   "source": [
    "A"
   ]
  },
  {
   "cell_type": "code",
   "execution_count": 24,
   "id": "53185616",
   "metadata": {},
   "outputs": [
    {
     "name": "stdout",
     "output_type": "stream",
     "text": [
      "21 3.5 1.707825127659933 2.9166666666666665\n"
     ]
    }
   ],
   "source": [
    "print(A.sum(), A.mean(), A.std(), A.var())"
   ]
  },
  {
   "cell_type": "code",
   "execution_count": 25,
   "id": "01b1c834",
   "metadata": {},
   "outputs": [],
   "source": [
    "A_df=pd.DataFrame(A)"
   ]
  },
  {
   "cell_type": "code",
   "execution_count": 26,
   "id": "3f5b3bb6",
   "metadata": {},
   "outputs": [
    {
     "data": {
      "text/plain": [
       "pandas.core.frame.DataFrame"
      ]
     },
     "execution_count": 26,
     "metadata": {},
     "output_type": "execute_result"
    }
   ],
   "source": [
    "type(A_df)"
   ]
  },
  {
   "cell_type": "markdown",
   "id": "642a00ed",
   "metadata": {},
   "source": [
    "# SQL"
   ]
  },
  {
   "cell_type": "code",
   "execution_count": 27,
   "id": "9c468b70",
   "metadata": {},
   "outputs": [],
   "source": [
    "## Postgre SQL, SQLite"
   ]
  },
  {
   "cell_type": "markdown",
   "id": "374f7704",
   "metadata": {},
   "source": [
    "Relational DB Download sqlite studio (GUI) https://sqlitestudio.pl/index.rvt"
   ]
  },
  {
   "cell_type": "code",
   "execution_count": 28,
   "id": "67ca50c6",
   "metadata": {},
   "outputs": [],
   "source": [
    "# select * from procedure;\n",
    "\n",
    "# select  specialty, count(id) as physician_count \n",
    "# from physician\n",
    "# group by specialty\n",
    "# order by 2 desc \n",
    "# limit 10 ;\n",
    "\n",
    "\n",
    "# select  specialty, count(distinct procedure_code)  \n",
    "# from  physician a \n",
    "# join procedure b on a.id=b.physician_id\n",
    "# group by specialty ;"
   ]
  },
  {
   "cell_type": "code",
   "execution_count": null,
   "id": "9d75bed0",
   "metadata": {},
   "outputs": [],
   "source": []
  }
 ],
 "metadata": {
  "kernelspec": {
   "display_name": "Python 3",
   "language": "python",
   "name": "python3"
  },
  "language_info": {
   "codemirror_mode": {
    "name": "ipython",
    "version": 3
   },
   "file_extension": ".py",
   "mimetype": "text/x-python",
   "name": "python",
   "nbconvert_exporter": "python",
   "pygments_lexer": "ipython3",
   "version": "3.8.8"
  }
 },
 "nbformat": 4,
 "nbformat_minor": 5
}
